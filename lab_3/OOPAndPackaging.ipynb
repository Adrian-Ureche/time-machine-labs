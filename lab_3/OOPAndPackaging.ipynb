{
 "cells": [
  {
   "cell_type": "markdown",
   "metadata": {},
   "source": [
    "### Modules, Objects and Packaging\n"
   ]
  },
  {
   "cell_type": "markdown",
   "metadata": {},
   "source": [
    "## Modules"
   ]
  },
  {
   "cell_type": "code",
   "execution_count": 59,
   "metadata": {},
   "outputs": [
    {
     "name": "stdout",
     "output_type": "stream",
     "text": [
      "Salutare, 7\n",
      "Salutare, 8\n",
      "Salutare, 9\n"
     ]
    }
   ],
   "source": [
    "import hello\n",
    "from hello import greet\n",
    "\n",
    "\n",
    "greet()\n",
    "hello.greet()\n",
    "hello.MESSAGE = 'Salutare, {}'\n",
    "greet()"
   ]
  },
  {
   "cell_type": "code",
   "execution_count": 44,
   "metadata": {},
   "outputs": [],
   "source": [
    "# hello"
   ]
  },
  {
   "cell_type": "code",
   "execution_count": 61,
   "metadata": {},
   "outputs": [],
   "source": [
    "import sys\n",
    "\n",
    "# sys.modules"
   ]
  },
  {
   "cell_type": "markdown",
   "metadata": {},
   "source": [
    "## Packages"
   ]
  },
  {
   "cell_type": "markdown",
   "metadata": {},
   "source": [
    "\n",
    "## Class Definitions\n",
    "## Variables: class and instance\n",
    "## Inheritance: single and multiple\n",
    "## Encapsulation: properties, _ and __ names\n",
    "## VirtualEnvs"
   ]
  },
  {
   "cell_type": "code",
   "execution_count": 80,
   "metadata": {},
   "outputs": [],
   "source": [
    "class Shape:\n",
    "    def __init__(self):\n",
    "        self.name = 'shape'\n",
    "    \n",
    "    def area(self):\n",
    "        raise NotImplementedError\n",
    "\n",
    "\n",
    "class Square(Shape):\n",
    "    def __init__(self, side):\n",
    "        super().__init__()\n",
    "        self.side = side\n",
    "        \n",
    "    def area(self):\n",
    "        return super().area()\n",
    "        # return self.side ** 2\n",
    "    \n",
    "    "
   ]
  },
  {
   "cell_type": "code",
   "execution_count": 81,
   "metadata": {},
   "outputs": [
    {
     "data": {
      "text/plain": [
       "'shape'"
      ]
     },
     "execution_count": 81,
     "metadata": {},
     "output_type": "execute_result"
    }
   ],
   "source": [
    "s = Square(42)\n",
    "s.name"
   ]
  },
  {
   "cell_type": "markdown",
   "metadata": {},
   "source": [
    "## TicTacToe\n",
    "\n",
    "Lets create a simple game with tic-tac-toe"
   ]
  },
  {
   "cell_type": "code",
   "execution_count": 103,
   "metadata": {},
   "outputs": [],
   "source": [
    "class Game:\n",
    "    def __init__(self):\n",
    "        self.board = [[\" \", \" \", \" \"], [\" \", \" \", \" \"], [\" \", \" \", \" \"]]\n",
    "        self.move_count = 0\n",
    "\n",
    "    def __str__(self):\n",
    "        return 'Game'\n",
    "    \n",
    "    def __repr__(self):\n",
    "        return (\n",
    "            f\"Game(\\n\"\n",
    "            f\"    {self.board[0]}\\n\"\n",
    "            f\"    {self.board[1]}\\n\"\n",
    "            f\"    {self.board[2]}\\n\"\n",
    "            f\")\\n\"\n",
    "        )\n",
    "    \n",
    "    def won(self):\n",
    "        if self.board[0] == ['X', 'X', 'X'] or self.board[0] == ['O', 'O', 'O']:\n",
    "            return True\n",
    "        else:\n",
    "            return False\n",
    "    \n",
    "    def mark(self, x, y):\n",
    "        self.move_count += 1\n",
    "        if self.move_count % 2 == 1:\n",
    "            symbol = 'X'\n",
    "        else:\n",
    "            symbol = 'O'\n",
    "        self.board[x][y] = symbol\n",
    "        if self.won():\n",
    "            print (symbol, 'won')\n",
    "\n",
    "    \n",
    "        \n",
    "    \n"
   ]
  },
  {
   "cell_type": "code",
   "execution_count": 101,
   "metadata": {},
   "outputs": [
    {
     "data": {
      "text/plain": [
       "Game(\n",
       "    ['X', 'X', 'X']\n",
       "    [' ', ' ', 'O']\n",
       "    [' ', ' ', ' ']\n",
       ")"
      ]
     },
     "execution_count": 101,
     "metadata": {},
     "output_type": "execute_result"
    }
   ],
   "source": [
    "g = Game()\n",
    "g.mark(0, 0)\n",
    "g.mark(1, 2)\n",
    "g.mark(0, 1)\n",
    "g.mark(1, 2)\n",
    "g.mark(0, 2)\n",
    "g"
   ]
  },
  {
   "cell_type": "markdown",
   "metadata": {},
   "source": [
    "## Practical Tutorial"
   ]
  },
  {
   "cell_type": "code",
   "execution_count": 163,
   "metadata": {},
   "outputs": [
    {
     "name": "stdout",
     "output_type": "stream",
     "text": [
      "Card(suite=\"♣\", rank=\"4\")\n",
      "Card(suite=\"♠\", rank=\"K\")\n",
      "Card(suite=\"♣\", rank=\"2\")\n",
      "Card(suite=\"♥\", rank=\"10\")\n"
     ]
    }
   ],
   "source": [
    "from cards.types import Rank, Suite\n",
    "\n",
    "\n",
    "\n",
    "class Combo:\n",
    "    def __init__(self, *cards):\n",
    "        self.cards = cards\n",
    "        \n",
    "    def __iter__(self):\n",
    "        return iter(self.cards)\n",
    "        \n",
    "    def __repr__(self):\n",
    "        return repr(self.cards)\n",
    "    \n",
    "    def __add__(self, other):\n",
    "        cards = self.cards + (other, )\n",
    "        return Combo(*cards)\n",
    "        \n",
    "    @property\n",
    "    def score(self):\n",
    "        return sum(card.score for card in self.cards)\n",
    "\n",
    "\n",
    "class Card:\n",
    "    def __init__(self, repr_):\n",
    "        self.suite, self.rank = repr_.split(' ')\n",
    "        \n",
    "    def __repr__(self):\n",
    "        return f'Card(suite=\"{self.suite}\", rank=\"{self.rank}\")'\n",
    "    \n",
    "    def __iter__(self):\n",
    "        return iter((self.suite, self.rank))\n",
    "    \n",
    "    def __add__(self, other):\n",
    "        return Combo(self, other)\n",
    "    \n",
    "    @classmethod\n",
    "    def fromtuple(cls, suite, rank):\n",
    "        return cls(f'{suite} {rank}')\n",
    "    \n",
    "    @staticmethod\n",
    "    def combinations():\n",
    "        return [\n",
    "            Card.fromtuple(suite.value, rank.value)\n",
    "            for rank in Rank\n",
    "            for suite in Suite\n",
    "        ]\n",
    "\n",
    "    @property\n",
    "    def score(self):\n",
    "        \"\"\"\n",
    "        2-10 : 2-10\n",
    "        J Q K : 10\n",
    "        A : 11\n",
    "        \"\"\"\n",
    "        if self.rank in (Rank.JACK.value, Rank.QUEEN.value, Rank.KING.value):\n",
    "            result = '10'\n",
    "        elif self.rank == Rank.ACE.value:\n",
    "            result = '11'\n",
    "        else:\n",
    "            result = self.rank\n",
    "        return int(result)\n",
    "    \n",
    "\n",
    "card = Card('♣ 4')\n",
    "card2 = Card.fromtuple(Suite.SPADES.value, 'K')\n",
    "combo = card + card2 + Card('♣ 2') + Card.fromtuple(Suite.HEARTS.value, '10')\n",
    "for card in combo:\n",
    "    print(card)"
   ]
  },
  {
   "cell_type": "code",
   "execution_count": 134,
   "metadata": {},
   "outputs": [
    {
     "data": {
      "text/plain": [
       "100"
      ]
     },
     "execution_count": 134,
     "metadata": {},
     "output_type": "execute_result"
    }
   ],
   "source": [
    "class Rectangle:\n",
    "    def _calculate(self):\n",
    "        return self.sides[0] * self.sides[1]\n",
    "    \n",
    "    @property\n",
    "    def area(self):\n",
    "        if not hasattr(self, '_area'):\n",
    "            self._area = self._calculate()\n",
    "        return self._area \n",
    "\n",
    "class Square(Rectangle):\n",
    "    def __init__(self, side):\n",
    "        self.sides = [side, side]\n",
    "    \n",
    "    \n",
    "r = Rectangle()\n",
    "r.sides = [4, 3]\n",
    "r._calculate()\n",
    "s = Square(10)\n",
    "s.area"
   ]
  },
  {
   "cell_type": "code",
   "execution_count": 140,
   "metadata": {},
   "outputs": [
    {
     "name": "stdout",
     "output_type": "stream",
     "text": [
      "done\n",
      "2.0018396377563477\n"
     ]
    }
   ],
   "source": [
    "import time\n",
    "import functools\n",
    "\n",
    "def timeit(fn):\n",
    "    \n",
    "    @functools.wraps(fn)\n",
    "    def wrapee(*args, **kwargs):\n",
    "        before = time.time()\n",
    "        result = fn(*args, **kwargs)\n",
    "        after = time.time()\n",
    "        print (after - before)\n",
    "        return result\n",
    "    return wrapee\n",
    "\n",
    "@timeit\n",
    "def long_calculate():\n",
    "    \"docstring\"\n",
    "    time.sleep(2)\n",
    "    print ('done')\n",
    "    \n",
    "long_calculate()"
   ]
  },
  {
   "cell_type": "markdown",
   "metadata": {},
   "source": [
    "## A game of Cards"
   ]
  },
  {
   "cell_type": "markdown",
   "metadata": {},
   "source": [
    "```python\n",
    "game = BlackJack()\n",
    "game\n",
    "BlackJack(\n",
    "    Dealer(),\n",
    "    Player(),\n",
    ")\n",
    "game.deal()\n",
    "game\n",
    "BlackJack(\n",
    "    Dealer('Q♥', '?', score='?'),\n",
    "    Player('2♣', 'K♦', score='12'),\n",
    ")\n",
    "game.hit()\n",
    "game.player\n",
    "Player('2♣', 'K♦', '8♠', score='20')\n",
    "game.stay()\n",
    "\n",
    "```\n"
   ]
  },
  {
   "cell_type": "code",
   "execution_count": 176,
   "metadata": {},
   "outputs": [
    {
     "data": {
      "text/plain": [
       "'A'"
      ]
     },
     "execution_count": 176,
     "metadata": {},
     "output_type": "execute_result"
    }
   ],
   "source": [
    "import dataclasses\n",
    "\n",
    "\n",
    "@dataclasses.dataclass\n",
    "class SimpleCard:\n",
    "    rank : str\n",
    "    suite: str\n",
    "        \n",
    "card = SimpleCard(rank='A', suite=Suite.SPADES.value)\n",
    "card.rank"
   ]
  },
  {
   "cell_type": "code",
   "execution_count": 169,
   "metadata": {},
   "outputs": [
    {
     "data": {
      "text/plain": [
       "<module 'dataclasses' from '/usr/lib/python3.8/dataclasses.py'>"
      ]
     },
     "execution_count": 169,
     "metadata": {},
     "output_type": "execute_result"
    }
   ],
   "source": [
    "dataclasses.dataclass"
   ]
  },
  {
   "cell_type": "code",
   "execution_count": null,
   "metadata": {},
   "outputs": [],
   "source": []
  }
 ],
 "metadata": {
  "kernelspec": {
   "display_name": "Python 3",
   "language": "python",
   "name": "python3"
  },
  "language_info": {
   "codemirror_mode": {
    "name": "ipython",
    "version": 3
   },
   "file_extension": ".py",
   "mimetype": "text/x-python",
   "name": "python",
   "nbconvert_exporter": "python",
   "pygments_lexer": "ipython3",
   "version": "3.8.2"
  }
 },
 "nbformat": 4,
 "nbformat_minor": 4
}
