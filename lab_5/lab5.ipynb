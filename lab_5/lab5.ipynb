{
 "cells": [
  {
   "cell_type": "markdown",
   "metadata": {},
   "source": [
    "## Lab 5 - Integrating some packages and python together."
   ]
  },
  {
   "cell_type": "markdown",
   "metadata": {},
   "source": [
    "### fetching urls "
   ]
  },
  {
   "cell_type": "code",
   "execution_count": 2,
   "metadata": {},
   "outputs": [],
   "source": [
    "# coding: utf-8\n",
    "import typing\n",
    "import logging\n",
    "import urllib.request\n",
    "import xml.etree.ElementTree as ET\n",
    "\n",
    "\n",
    "logging.basicConfig(filename=\"hackernews.log\", level=logging.DEBUG)\n",
    "\n",
    "\n",
    "class Article(typing.NamedTuple):\n",
    "    title: str\n",
    "    url: str\n",
    "\n",
    "\n",
    "def articles(url:str) -> typing.List[Article]:\n",
    "    content = urllib.request.urlopen(url).read()\n",
    "    feed = ET.fromstring(content)\n",
    "    result = [\n",
    "        Article(element[0].text, element[1].text)\n",
    "        for element in feed[0]\n",
    "        if element.tag == \"item\"\n",
    "    ]\n",
    "    return result\n",
    "\n",
    "\n",
    "for article in articles(\"https://news.ycombinator.com/rss\"):\n",
    "    print(f\"{article.title}\")\n",
    "    print(f\"{article.url}\")\n"
   ]
  },
  {
   "cell_type": "code",
   "execution_count": 3,
   "metadata": {},
   "outputs": [],
   "source": [
    "from IPython.display import JSON\n",
    "\n",
    "import urllib.request\n",
    "import typing\n",
    "import xml.etree.ElementTree as ET\n",
    "import json\n",
    "\n",
    "r = urllib.request.urlopen(\"https://news.ycombinator.com/rss\")\n",
    "if r.status != 200:\n",
    "    raise Exception(\"something fishy happened!\")\n",
    "# GET \n",
    "# POST\n",
    "# PUT \n",
    "# DELETE\n",
    "content = r.read()\n",
    "tree = ET.fromstring(content)\n",
    "\n",
    "class Article(typing.NamedTuple):\n",
    "    title: str\n",
    "    url: str\n",
    "\n",
    "def articles():\n",
    "    return [\n",
    "        Article(title=element[0].text, url=element[1].text)\n",
    "        for element in tree[0]\n",
    "        if element.tag == 'item'\n",
    "    ]\n",
    "\n",
    "JSON(json.dumps(articles()))"
   ]
  },
  {
   "cell_type": "markdown",
   "metadata": {},
   "source": [
    "### REST"
   ]
  },
  {
   "cell_type": "markdown",
   "metadata": {},
   "source": [
    "## Fun with public APIs:\n",
    "https://github.com/public-apis/public-apis"
   ]
  },
  {
   "cell_type": "markdown",
   "metadata": {},
   "source": [
    "An example API https://newsapi.org/docs/get-started"
   ]
  },
  {
   "cell_type": "code",
   "execution_count": 44,
   "metadata": {},
   "outputs": [],
   "source": [
    "from IPython.display import HTML, JSON\n",
    "\n",
    "import requests\n",
    "\n",
    "\n",
    "\n",
    "logging.basicConfig(filename=\"newsapi.log\", level=logging.DEBUG)\n",
    "\n",
    "\n",
    "# https://newsapi.org/register\n",
    "API_KEY = ''\n",
    "\n",
    "url = ('http://newsapi.org/v2/top-headlines?'\n",
    "       'sources=bbc-news&'\n",
    "       f'apiKey={API_KEY}')\n",
    "\n",
    "\n",
    "def render(articles):\n",
    "    html = '<ul>'\n",
    "    for title, url in articles:\n",
    "        html += f'<li><a href=\"{url}\"\">{title}</a></li>'\n",
    "    html += '</ul>'\n",
    "    return HTML(html)\n",
    "\n",
    "response = requests.get(url)\n",
    "if response.status_code != 200:\n",
    "    response.raise_for_status()\n",
    "    \n",
    "# JSON(response.json())\n",
    "with open('news.json', 'w') as fp:\n",
    "    fp.write(json.dumps(response.json()))\n",
    "    \n",
    "# response.json()\n",
    "# articles = [(a['title'], a['url']) for a in response.json()['articles']]\n",
    "# render(articles)\n",
    "\n"
   ]
  },
  {
   "cell_type": "markdown",
   "metadata": {},
   "source": [
    "### Requests"
   ]
  },
  {
   "cell_type": "markdown",
   "metadata": {},
   "source": [
    "# Trello\n",
    "\n",
    "Trello:\n",
    "- https://trello.com/app-key\n",
    "- https://developer.atlassian.com/cloud/trello/guides/rest-api/api-introduction/#boards\n",
    "- https://developer.atlassian.com/cloud/trello/guides/rest-api/api-introduction/#cards\n"
   ]
  },
  {
   "cell_type": "markdown",
   "metadata": {},
   "source": [
    " \n",
    "key:   fafbdfb6172c0dc13b398e474ec7d13b\n",
    "Token: 74a059bbc4de33924562019e8b56e75e70f322eec4a4dceec2ce6f31d810ae68\n"
   ]
  },
  {
   "cell_type": "markdown",
   "metadata": {},
   "source": [
    "'https://api.trello.com/1/boards/{idBoard}?key={yourKey}&token={yourToken}'"
   ]
  },
  {
   "cell_type": "markdown",
   "metadata": {},
   "source": [
    "### Argparse\n",
    "- https://docs.python.org/3.7/library/argparse.html\n",
    "- https://docs.python.org/3.7/howto/argparse.html#id1"
   ]
  },
  {
   "cell_type": "code",
   "execution_count": null,
   "metadata": {},
   "outputs": [],
   "source": []
  }
 ],
 "metadata": {
  "kernelspec": {
   "display_name": "Python 3",
   "language": "python",
   "name": "python3"
  },
  "language_info": {
   "codemirror_mode": {
    "name": "ipython",
    "version": 3
   },
   "file_extension": ".py",
   "mimetype": "text/x-python",
   "name": "python",
   "nbconvert_exporter": "python",
   "pygments_lexer": "ipython3",
   "version": "3.8.2"
  }
 },
 "nbformat": 4,
 "nbformat_minor": 4
}
