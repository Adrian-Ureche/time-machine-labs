{
 "cells": [
  {
   "cell_type": "markdown",
   "metadata": {},
   "source": [
    "## Why Python\n",
    "\n",
    "- [stackoverflow trends](https://insights.stackoverflow.com/trends?tags=java%2Cc%2Cc%2B%2B%2Cpython%2Cc%23%2Cvb.net%2Cjavascript%2Cassembly%2Cphp%2Cperl%2Cruby%2Cswift%2Cr%2Cobjective-c)\n",
    "- [google trends](https://trends.google.com/trends/explore?date=all&q=%2Fm%2F05z1_,%2Fm%2F02p97)\n",
    "\n",
    "## Topics to cover:\n",
    "- strings and numbers\n",
    "- printing\n",
    "- variables and scope\n",
    "- calling a python script with arguments: sys.argv\n",
    "- working with files: .read, .write, .close\n",
    "- variable names, functions,\n",
    "- conditional expressions and booleans, primitives, trthiness\n",
    "- flow control if, elif, else\n",
    "- loops, iterations and lists\n",
    "  - for\n",
    "  - while\n",
    "- debugging and coding recomandations\n",
    "- working with lists\n",
    "- working with dicts\n",
    "- modules and packages\n",
    "- objects and classes \n",
    "\n",
    "## Reference\n",
    "[Learn Python The Hard Way](https://learntocodetogether.com/learn-python-the-hard-way-free-ebook-download/)\n"
   ]
  },
  {
   "cell_type": "markdown",
   "metadata": {},
   "source": [
    "# Printing, Strings and Numbers\n",
    "\n",
    "- print\n",
    "- str\n",
    "- int"
   ]
  },
  {
   "cell_type": "code",
   "execution_count": null,
   "metadata": {},
   "outputs": [],
   "source": [
    "print ('Hello, World!')"
   ]
  },
  {
   "cell_type": "code",
   "execution_count": 2,
   "metadata": {},
   "outputs": [
    {
     "name": "stdout",
     "output_type": "stream",
     "text": [
      "Mă numesc Zoli Szeredi și vă vom invața impreună Python\n"
     ]
    }
   ],
   "source": [
    "nume = \"Zoli Szeredi\"\n",
    "print (\"Mă numesc\", nume, \"și vă vom invața impreună Python\")"
   ]
  },
  {
   "cell_type": "code",
   "execution_count": 15,
   "metadata": {},
   "outputs": [
    {
     "name": "stdout",
     "output_type": "stream",
     "text": [
      "Sunt software developer la Syneto.\n",
      "Salut, sunt Zoli Szeredi, software developer de la Syneto din anul 2019.\n"
     ]
    }
   ],
   "source": [
    "organizatie = \"Syneto\"\n",
    "rol = 'software developer'\n",
    "an = 2019\n",
    "\n",
    "message = \"Sunt {} la {}.\".format(rol, organizatie)\n",
    "print (message)\n",
    "\n",
    "mesaj = f\"Salut, sunt {nume}, {rol} de la {organizatie} din anul {an}.\"\n",
    "print (mesaj)"
   ]
  },
  {
   "cell_type": "code",
   "execution_count": 8,
   "metadata": {},
   "outputs": [
    {
     "name": "stdout",
     "output_type": "stream",
     "text": [
      "********************************************************************************\n",
      "Salut, sunt Alex, student la UPT din anul 3.\n",
      "********************************************************************************\n"
     ]
    }
   ],
   "source": [
    "def greet(name, organization, role, year):\n",
    "    \"\"\"Prints a friendly greeting.\"\"\"\n",
    "    print('*' * 80)      \n",
    "    print(f\"Salut, sunt {name}, {role} la {organization} din anul {year}.\")\n",
    "    print('*' * 80)      \n",
    "\n",
    "    \n",
    "greet(name='Alex', organization='UPT', role='student', year=3)"
   ]
  },
  {
   "cell_type": "code",
   "execution_count": 25,
   "metadata": {},
   "outputs": [
    {
     "name": "stdout",
     "output_type": "stream",
     "text": [
      "-f /home/stz/.local/share/jupyter/runtime/kernel-b9538b8e-aed8-4364-ac29-34f8ace8150f.json\n"
     ]
    }
   ],
   "source": [
    "# exercise.py\n",
    "    \n",
    "import sys\n",
    "\n",
    "def about(color, animal):\n",
    "    return f\"My favorite color is {color} and I am a {animal} person.\"\n",
    "\n",
    "script, color, animal = sys.argv\n",
    "print(color, animal)"
   ]
  },
  {
   "cell_type": "markdown",
   "metadata": {},
   "source": [
    "```bash\n",
    "shell> python3 exercise.py blue dog\n",
    "\n",
    "My favorite color is Blue and I am a dog person.\n",
    "```"
   ]
  },
  {
   "cell_type": "markdown",
   "metadata": {},
   "source": [
    "## Variables and Numbers\n",
    "\n"
   ]
  },
  {
   "cell_type": "code",
   "execution_count": 24,
   "metadata": {},
   "outputs": [
    {
     "name": "stdout",
     "output_type": "stream",
     "text": [
      "A megabyte is 1048576 bytes. Technically it's called mebibyte (MiB)\n",
      "1000000 bytes is a megabyte (MB) and is  95.37% of a mebibyte.\n"
     ]
    }
   ],
   "source": [
    "bytes_in_a_megabyte = 2**20\n",
    "one_million = 1_000_000\n",
    "print (f\"A megabyte is {bytes_in_a_megabyte} bytes. Technically it's called mebibyte (MiB)\")\n",
    "print (f'{one_million} bytes is a megabyte (MB) and is {100 * one_million / bytes_in_a_megabyte:6.2f}% of a mebibyte.')"
   ]
  },
  {
   "cell_type": "markdown",
   "metadata": {},
   "source": [
    "## Working with files"
   ]
  },
  {
   "cell_type": "code",
   "execution_count": 37,
   "metadata": {},
   "outputs": [
    {
     "name": "stdout",
     "output_type": "stream",
     "text": [
      "An old silent pond...\n",
      "A frog jumps into the pond,\n",
      "splash! Silence again.\n",
      "\n",
      "- Matsuo Bashō\n",
      "\n"
     ]
    }
   ],
   "source": [
    "filename = 'haiku.txt'\n",
    "\n",
    "def print_file(filename):\n",
    "    reader = open(filename)\n",
    "    code = reader.read()\n",
    "    reader.close()\n",
    "    print(code)\n",
    "    \n",
    "print_file(filename)"
   ]
  },
  {
   "cell_type": "code",
   "execution_count": 44,
   "metadata": {},
   "outputs": [
    {
     "name": "stdout",
     "output_type": "stream",
     "text": [
      "1267650600228229401496703205376\n"
     ]
    }
   ],
   "source": [
    "filename = \"bignum.txt\"\n",
    "data = 2**100\n",
    "\n",
    "def write_file(filename, data):\n",
    "    writer = open(filename, \"w\")\n",
    "    writer.write(data)\n",
    "    writer.close()\n",
    "\n",
    "write_file(filename, f'{data}')\n",
    "print_file(filename)"
   ]
  },
  {
   "cell_type": "code",
   "execution_count": null,
   "metadata": {},
   "outputs": [],
   "source": []
  }
 ],
 "metadata": {
  "kernelspec": {
   "display_name": "Python 3",
   "language": "python",
   "name": "python3"
  },
  "language_info": {
   "codemirror_mode": {
    "name": "ipython",
    "version": 3
   },
   "file_extension": ".py",
   "mimetype": "text/x-python",
   "name": "python",
   "nbconvert_exporter": "python",
   "pygments_lexer": "ipython3",
   "version": "3.8.2"
  }
 },
 "nbformat": 4,
 "nbformat_minor": 4
}
