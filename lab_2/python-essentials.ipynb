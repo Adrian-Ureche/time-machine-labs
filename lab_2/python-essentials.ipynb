{
 "cells": [
  {
   "cell_type": "markdown",
   "metadata": {},
   "source": [
    "[Book](https://learntocodetogether.com/learn-python-the-hard-way-free-ebook-download/)\n",
    "\n",
    "## Topics to cover:\n",
    "- strings and numbers\n",
    "- printing\n",
    "- variables and scope\n",
    "- calling a python script with arguments: sys.argv\n",
    "- working with files: .read, .write, .close\n",
    "- variable names, functions,\n",
    "- conditional expressions and booleans, primitives, trthiness\n",
    "- flow control if, elif, else\n",
    "- loops, iterations and lists\n",
    "  - for\n",
    "  - while\n",
    "- debugging and coding recomandations\n",
    "- working with lists\n",
    "- working with dicts\n",
    "- modules and packages\n",
    "- objects and classes "
   ]
  },
  {
   "cell_type": "code",
   "execution_count": null,
   "metadata": {},
   "outputs": [],
   "source": [
    "# Strings\n",
    "\n",
    "print ('Hello, World!')\n",
    "nume = \"Zoli Szeredi\"\n",
    "print (\"Mă numesc\", nume, \"și vă vom invața impreună Python\")\n",
    "organizatie = \"Syneto\"\n",
    "rol = \"software developer\"\n",
    "an = 2019\n",
    "print (\"Sunt {} la {}\".format(rol, organizatie))\n",
    "mesaj = f\"Salut, sunt {nume}, {rol} de la {organizatie} din anul {an}.\"\n",
    "print (mesaj)\n",
    "\n",
    "def greet(name, organization, role, year):\n",
    "    \"\"\"Prints a friendly greeting.\"\"\"\n",
    "    print('*' * 80)      \n",
    "    print(f\"Salut, sunt {name}, {role} la {organization} din anul {year}.\")\n",
    "\n"
   ]
  },
  {
   "cell_type": "code",
   "execution_count": null,
   "metadata": {},
   "outputs": [],
   "source": [
    "import sys\n",
    "\n",
    "def about(color: str, animal: str) -> str:\n",
    "    return f\"My favorite color is {color} and I am a {animal} person.\"\n",
    "\n",
    "print(about(sys.argv[1], sys.argv[2]))"
   ]
  }
 ],
 "metadata": {
  "kernelspec": {
   "display_name": "Python 3",
   "language": "python",
   "name": "python3"
  },
  "language_info": {
   "codemirror_mode": {
    "name": "ipython",
    "version": 3
   },
   "file_extension": ".py",
   "mimetype": "text/x-python",
   "name": "python",
   "nbconvert_exporter": "python",
   "pygments_lexer": "ipython3",
   "version": "3.8.2"
  }
 },
 "nbformat": 4,
 "nbformat_minor": 4
}
