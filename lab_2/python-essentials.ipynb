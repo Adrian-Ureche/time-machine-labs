{
 "cells": [
  {
   "cell_type": "markdown",
   "metadata": {},
   "source": [
    "## Why Python\n",
    "\n",
    "- [stackoverflow trends](https://insights.stackoverflow.com/trends?tags=java%2Cc%2Cc%2B%2B%2Cpython%2Cc%23%2Cvb.net%2Cjavascript%2Cassembly%2Cphp%2Cperl%2Cruby%2Cswift%2Cr%2Cobjective-c)\n",
    "- [google trends](https://trends.google.com/trends/explore?date=all&q=%2Fm%2F05z1_,%2Fm%2F02p97)\n",
    "\n",
    "## Topics to cover:\n",
    "- strings and numbers\n",
    "- printing\n",
    "- variables and scope\n",
    "- calling a python script with arguments: sys.argv\n",
    "- working with files: .read, .write, .close\n",
    "- variable names, functions,\n",
    "- conditional expressions and booleans, primitives, trthiness\n",
    "- flow control if, elif, else\n",
    "- loops, iterations and lists\n",
    "  - for\n",
    "  - while\n",
    "- debugging and coding recomandations\n",
    "- working with lists\n",
    "- working with dicts\n",
    "- modules and packages\n",
    "- objects and classes \n",
    "\n",
    "## Reference\n",
    "[Learn Python The Hard Way](https://learntocodetogether.com/learn-python-the-hard-way-free-ebook-download/)\n"
   ]
  },
  {
   "cell_type": "markdown",
   "metadata": {},
   "source": [
    "# Printing, Strings and Numbers\n",
    "\n",
    "- print\n",
    "- str\n",
    "- int"
   ]
  },
  {
   "cell_type": "code",
   "execution_count": 4,
   "metadata": {},
   "outputs": [
    {
     "name": "stdout",
     "output_type": "stream",
     "text": [
      "foo\n"
     ]
    }
   ],
   "source": [
    "print ('foo')"
   ]
  },
  {
   "cell_type": "code",
   "execution_count": 6,
   "metadata": {},
   "outputs": [
    {
     "name": "stdout",
     "output_type": "stream",
     "text": [
      "Mă numesc Zoli Szeredi și vă vom invața impreună Python\n"
     ]
    }
   ],
   "source": [
    "nume = \"Zoli Szeredi\"\n",
    "print (\"Mă numesc\", nume, \"și vă vom invața impreună Python\")"
   ]
  },
  {
   "cell_type": "code",
   "execution_count": 7,
   "metadata": {},
   "outputs": [
    {
     "name": "stdout",
     "output_type": "stream",
     "text": [
      "Eu sunt in Arad\n",
      "Sunt software developer la Syneto.\n",
      "Salut, sunt Zoli Szeredi, software developer de la Syneto din anul 2019.\n"
     ]
    }
   ],
   "source": [
    "organizatie = \"Syneto\"\n",
    "rol = 'software developer'\n",
    "an = 2019\n",
    "\n",
    "cstring = 'Eu sunt in %s' % 'Arad'\n",
    "print (cstring)\n",
    "\n",
    "message = \"Sunt {} la {}.\".format(rol, organizatie)\n",
    "print (message)\n",
    "\n",
    "mesaj = f\"Salut, sunt {nume}, {rol} de la {organizatie} din anul {an}.\"\n",
    "print (mesaj)"
   ]
  },
  {
   "cell_type": "code",
   "execution_count": 9,
   "metadata": {},
   "outputs": [
    {
     "name": "stdout",
     "output_type": "stream",
     "text": [
      "********************************************************************************\n",
      "Salut, sunt Alex, student la UPT din anul 3.\n",
      "********************************************************************************\n"
     ]
    }
   ],
   "source": [
    "def greet(name, organization, role, year):\n",
    "    \"\"\"Prints a friendly greeting.\"\"\"\n",
    "    print('*' * 80)\n",
    "    print(f\"Salut, sunt {name}, {role} la {organization} din anul {year}.\")\n",
    "    print('*' * 80)      \n",
    "\n",
    "    \n",
    "greet(name='Alex', organization='UPT', role='student', year=3)"
   ]
  },
  {
   "cell_type": "code",
   "execution_count": 2,
   "metadata": {},
   "outputs": [
    {
     "data": {
      "text/plain": [
       "'My favorite color is verde and I am a pisica person.'"
      ]
     },
     "execution_count": 2,
     "metadata": {},
     "output_type": "execute_result"
    }
   ],
   "source": [
    "#! /usr/bin/env python3\n",
    "# about.py\n",
    "    \n",
    "import sys\n",
    "\n",
    "def about(color, animal):\n",
    "    return f\"My favorite color is {color} and I am a {animal} person.\"\n",
    "\n",
    "about('verde', 'pisica')"
   ]
  },
  {
   "cell_type": "markdown",
   "metadata": {},
   "source": [
    "```bash\n",
    "shell> python3 about.py blue dog\n",
    "\n",
    "My favorite color is Blue and I am a dog person.\n",
    "```\n",
    "\n",
    "You can also run the script directly on UNIX based platforms: MacOS, Linux, BSD.\n",
    "Provided you have the shebang header and the file is executable (chmod +x)"
   ]
  },
  {
   "cell_type": "markdown",
   "metadata": {},
   "source": [
    "# Usefull Methods:\n"
   ]
  },
  {
   "cell_type": "markdown",
   "metadata": {},
   "source": [
    "### in"
   ]
  },
  {
   "cell_type": "code",
   "execution_count": 4,
   "metadata": {},
   "outputs": [
    {
     "data": {
      "text/plain": [
       "False"
      ]
     },
     "execution_count": 4,
     "metadata": {},
     "output_type": "execute_result"
    }
   ],
   "source": [
    "'zzz' in 'pizza'"
   ]
  },
  {
   "cell_type": "markdown",
   "metadata": {},
   "source": [
    "### split"
   ]
  },
  {
   "cell_type": "code",
   "execution_count": 6,
   "metadata": {},
   "outputs": [
    {
     "name": "stdout",
     "output_type": "stream",
     "text": [
      "1990.01.01\n"
     ]
    }
   ],
   "source": [
    "# split\n",
    "name, birth_date, location = 'Joe,1990.01.01,London'.split(',')\n",
    "print (birth_date)"
   ]
  },
  {
   "cell_type": "markdown",
   "metadata": {},
   "source": [
    "### strip + rstrip + lstrip\n"
   ]
  },
  {
   "cell_type": "code",
   "execution_count": 7,
   "metadata": {},
   "outputs": [
    {
     "name": "stdout",
     "output_type": "stream",
     "text": [
      "bad \n",
      "   bad\n",
      "bad\n"
     ]
    }
   ],
   "source": [
    "print ('   bad '.lstrip())\n",
    "print ('   bad '.rstrip())\n",
    "print ('   bad '.strip())"
   ]
  },
  {
   "cell_type": "markdown",
   "metadata": {},
   "source": [
    "### lower + upper"
   ]
  },
  {
   "cell_type": "code",
   "execution_count": 8,
   "metadata": {},
   "outputs": [
    {
     "name": "stdout",
     "output_type": "stream",
     "text": [
      "ALEX\n"
     ]
    }
   ],
   "source": [
    "data = 'Alex'\n",
    "if data.lower() == 'alex':\n",
    "    print (data.upper())"
   ]
  },
  {
   "cell_type": "markdown",
   "metadata": {},
   "source": [
    "### join"
   ]
  },
  {
   "cell_type": "code",
   "execution_count": 10,
   "metadata": {},
   "outputs": [
    {
     "name": "stdout",
     "output_type": "stream",
     "text": [
      "bob\n",
      "joe\n",
      "tom\n"
     ]
    }
   ],
   "source": [
    "names = 'bob', 'joe', 'tom'\n",
    "print ('\\n'.join(names))"
   ]
  },
  {
   "cell_type": "markdown",
   "metadata": {},
   "source": [
    "### format"
   ]
  },
  {
   "cell_type": "code",
   "execution_count": 11,
   "metadata": {},
   "outputs": [
    {
     "data": {
      "text/plain": [
       "'old strings'"
      ]
     },
     "execution_count": 11,
     "metadata": {},
     "output_type": "execute_result"
    }
   ],
   "source": [
    "'The {} in {country} stays mainly on the {place}.'.format('rain', country='Spain', place=\"plains\")"
   ]
  },
  {
   "cell_type": "markdown",
   "metadata": {},
   "source": [
    "### replace"
   ]
  },
  {
   "cell_type": "code",
   "execution_count": 15,
   "metadata": {},
   "outputs": [
    {
     "data": {
      "text/plain": [
       "['Hello', '', 'there', '', 'world', '']"
      ]
     },
     "execution_count": 15,
     "metadata": {},
     "output_type": "execute_result"
    }
   ],
   "source": [
    "'Hello; there, world.'.replace(';', ' ').replace(',', ' ').replace('.', ' ').split(' ')"
   ]
  },
  {
   "cell_type": "markdown",
   "metadata": {},
   "source": [
    "### startswith + endswith"
   ]
  },
  {
   "cell_type": "code",
   "execution_count": 23,
   "metadata": {},
   "outputs": [
    {
     "name": "stdout",
     "output_type": "stream",
     "text": [
      "Popescu is a Romanian name\n"
     ]
    }
   ],
   "source": [
    "name = 'Popescu'\n",
    "if name.endswith('escu'):\n",
    "    print (f\"{name} is a Romanian name\")"
   ]
  },
  {
   "cell_type": "code",
   "execution_count": 26,
   "metadata": {},
   "outputs": [
    {
     "data": {
      "text/plain": [
       "1230231922161117176931558813276752514640713895736833715766118029160058800614672948775360067838593459582429649254051804908512884180898236823585082482065348331234959350355845017413023320111360666922624728239756880416434478315693675013413090757208690376793296658810662941824493488451726505303712916005346747908623702673480919353936813105736620402352744776903840477883651100322409301983488363802930540482487909763484098253940728685132044408863734754271212592471778643949486688511721051561970432780747454823776808464180697103083861812184348565522740195796682622205511845512080552010310050255801589349645928001133745474220715013683413907542779063759833876101354235184245096670042160720629411581502371248008430447184842098610320580417992206662247328722122088513643683907670360209162653670641130936997002170500675501374723998766005827579300723253474890612250135171889174899079911291512399773872178519018229989377"
      ]
     },
     "execution_count": 26,
     "metadata": {},
     "output_type": "execute_result"
    }
   ],
   "source": []
  },
  {
   "cell_type": "markdown",
   "metadata": {},
   "source": [
    "## Variables and Numbers\n",
    "\n"
   ]
  },
  {
   "cell_type": "code",
   "execution_count": 28,
   "metadata": {},
   "outputs": [
    {
     "name": "stdout",
     "output_type": "stream",
     "text": [
      "A megabyte is 1048576 bytes. Technically it's called mebibyte (MiB)\n",
      "1000000 bytes is a megabyte (MB) and is  95.37% of a mebibyte.\n"
     ]
    }
   ],
   "source": [
    "bytes_in_a_megabyte = 2**20\n",
    "one_million = 1_000_000\n",
    "print (f\"A megabyte is {bytes_in_a_megabyte} bytes. Technically it's called mebibyte (MiB)\")\n",
    "print (f'{one_million} bytes is a megabyte (MB) and is {100 * one_million / bytes_in_a_megabyte:6.2f}% of a mebibyte.')"
   ]
  },
  {
   "cell_type": "markdown",
   "metadata": {},
   "source": [
    "## Working with files"
   ]
  },
  {
   "cell_type": "code",
   "execution_count": 33,
   "metadata": {},
   "outputs": [
    {
     "name": "stdout",
     "output_type": "stream",
     "text": [
      "An old silent pond...\n",
      "A frog jumps into the pond,\n",
      "splash! Silence again.\n",
      "\n",
      "- Matsuo Bashō\n",
      "\n"
     ]
    }
   ],
   "source": [
    "import sys\n",
    "\n",
    "# filename = 'haiku.txt'\n",
    "script, filename = sys.argv\n",
    "\n",
    "def print_file(filename):\n",
    "    reader = open(filename)\n",
    "    code = reader.read()\n",
    "    reader.close()\n",
    "    print(code)\n",
    "    \n",
    "print_file(filename)"
   ]
  },
  {
   "cell_type": "markdown",
   "metadata": {},
   "source": [
    "## Excercise\n",
    "\n",
    "Write an python script called `cat.py`. Given an input parameter it print the contents of that file.\n",
    "\n",
    "> cat.py haiku.txt\n"
   ]
  },
  {
   "cell_type": "code",
   "execution_count": 46,
   "metadata": {},
   "outputs": [
    {
     "name": "stdout",
     "output_type": "stream",
     "text": [
      "1267650600228229401496703205376\n"
     ]
    }
   ],
   "source": [
    "filename = \"bignum.txt\"\n",
    "data = 2**100\n",
    "\n",
    "def write_file(filename, data):\n",
    "    writer = open(filename, \"wb\")\n",
    "    writer.write(data)\n",
    "    writer.close()\n",
    "\n",
    "output = bytes(str(data), 'utf8')    \n",
    "    \n",
    "write_file(filename, output)\n",
    "print_file(filename)\n",
    "\n"
   ]
  },
  {
   "cell_type": "markdown",
   "metadata": {},
   "source": [
    "## Functions\n"
   ]
  },
  {
   "cell_type": "code",
   "execution_count": 53,
   "metadata": {},
   "outputs": [
    {
     "name": "stdout",
     "output_type": "stream",
     "text": [
      "42 + 100 152\n",
      "42 + 100 142\n"
     ]
    }
   ],
   "source": [
    "def add(a: int, b: int, other=10) -> int:\n",
    "    \"Adds two variabls\"\n",
    "    return a + b + other\n",
    "\n",
    "print ('42 + 100', add(42, 100))\n",
    "print ('42 + 100', add(42, 100, other=0))\n",
    "\n",
    "# print ('\"foo\" + \"bar\"', add('foo', 'bar'))\n",
    "# print ('[1] + [2]', add([1], [2]))"
   ]
  },
  {
   "cell_type": "code",
   "execution_count": 49,
   "metadata": {},
   "outputs": [
    {
     "data": {
      "text/plain": [
       "\u001b[0;31mSignature:\u001b[0m  \u001b[0madd\u001b[0m\u001b[0;34m(\u001b[0m\u001b[0ma\u001b[0m\u001b[0;34m,\u001b[0m \u001b[0mb\u001b[0m\u001b[0;34m)\u001b[0m\u001b[0;34m\u001b[0m\u001b[0;34m\u001b[0m\u001b[0m\n",
       "\u001b[0;31mDocstring:\u001b[0m Adds two variabls\n",
       "\u001b[0;31mFile:\u001b[0m      ~/source/syneto/time-machine-labs/lab_2/<ipython-input-48-297c6d154a63>\n",
       "\u001b[0;31mType:\u001b[0m      function\n"
      ]
     },
     "metadata": {},
     "output_type": "display_data"
    }
   ],
   "source": [
    "? add"
   ]
  },
  {
   "cell_type": "code",
   "execution_count": 34,
   "metadata": {},
   "outputs": [
    {
     "name": "stdout",
     "output_type": "stream",
     "text": [
      "()\n",
      "{}\n",
      "(1,)\n",
      "{}\n",
      "(42,)\n",
      "{'foo': 'bar'}\n"
     ]
    }
   ],
   "source": [
    "def function(*args, **kwargs):\n",
    "    print (args)\n",
    "    print (kwargs)\n",
    "    \n",
    "function()\n",
    "function(1)\n",
    "function(42, foo='bar')"
   ]
  },
  {
   "cell_type": "markdown",
   "metadata": {},
   "source": [
    "## conditionals"
   ]
  },
  {
   "cell_type": "markdown",
   "metadata": {},
   "source": [
    "```python\n",
    "if cond1:\n",
    "    \"<true-branch>\"\n",
    "elif not cond2:\n",
    "    \"<elif-branch>\"\n",
    "else:\n",
    "    \"<else-branch>\"\n",
    "```"
   ]
  },
  {
   "cell_type": "markdown",
   "metadata": {},
   "source": [
    "### [truthyness](https://docs.python.org/3/library/stdtypes.html#truth-value-testing)"
   ]
  },
  {
   "cell_type": "markdown",
   "metadata": {},
   "source": [
    "These onsidered falsey:\n",
    " - None and False.\n",
    " - zeros: 0, 0.0, 0j, Decimal(0), Fraction(0, 1)\n",
    " - empty bags: '', (), [], {}, set(), range(0)"
   ]
  },
  {
   "cell_type": "markdown",
   "metadata": {},
   "source": [
    "## Lists and Tuples"
   ]
  },
  {
   "cell_type": "code",
   "execution_count": 55,
   "metadata": {},
   "outputs": [],
   "source": [
    "numeric_list = [1, 2, 3, 4]\n",
    "numeric_tuple = (42, 41, 9)\n",
    "mixed = [1, 2, (3, )]"
   ]
  },
  {
   "cell_type": "markdown",
   "metadata": {},
   "source": [
    "### lookup and slices"
   ]
  },
  {
   "cell_type": "code",
   "execution_count": 56,
   "metadata": {},
   "outputs": [
    {
     "name": "stdout",
     "output_type": "stream",
     "text": [
      "bear\n",
      "['dog', 'goldfish', 'octokitty']\n",
      "octokitty\n",
      "['goldfish', 'octokitty']\n"
     ]
    }
   ],
   "source": [
    "items = ['bear', 'dog', 'goldfish', 'octokitty']\n",
    "print (items[0])\n",
    "print (items[1:])\n",
    "print (items[-1])\n",
    "print (items[-2:])"
   ]
  },
  {
   "cell_type": "markdown",
   "metadata": {},
   "source": [
    "### len"
   ]
  },
  {
   "cell_type": "code",
   "execution_count": 51,
   "metadata": {},
   "outputs": [
    {
     "data": {
      "text/plain": [
       "3"
      ]
     },
     "execution_count": 51,
     "metadata": {},
     "output_type": "execute_result"
    }
   ],
   "source": [
    "len([1, 2, 3])"
   ]
  },
  {
   "cell_type": "code",
   "execution_count": 57,
   "metadata": {},
   "outputs": [
    {
     "data": {
      "text/plain": [
       "0"
      ]
     },
     "execution_count": 57,
     "metadata": {},
     "output_type": "execute_result"
    }
   ],
   "source": [
    "len(())"
   ]
  },
  {
   "cell_type": "markdown",
   "metadata": {},
   "source": [
    "### append"
   ]
  },
  {
   "cell_type": "code",
   "execution_count": 57,
   "metadata": {},
   "outputs": [
    {
     "data": {
      "text/plain": [
       "[1, 2, 3]"
      ]
     },
     "execution_count": 57,
     "metadata": {},
     "output_type": "execute_result"
    }
   ],
   "source": [
    "nums = [1, 2]\n",
    "nums.append(3)\n",
    "nums"
   ]
  },
  {
   "cell_type": "markdown",
   "metadata": {},
   "source": [
    "### extend"
   ]
  },
  {
   "cell_type": "code",
   "execution_count": 58,
   "metadata": {},
   "outputs": [
    {
     "data": {
      "text/plain": [
       "[1, 2, 3, 4]"
      ]
     },
     "execution_count": 58,
     "metadata": {},
     "output_type": "execute_result"
    }
   ],
   "source": [
    "nums = [1, 2]\n",
    "nums.extend([3, 4])\n",
    "nums"
   ]
  },
  {
   "cell_type": "code",
   "execution_count": 66,
   "metadata": {},
   "outputs": [],
   "source": [
    "def myextend(list_, other):\n",
    "    return list_ + other\n",
    "    \n",
    "x = [1, 2]\n",
    "y = myextend(x, [3])\n"
   ]
  },
  {
   "cell_type": "markdown",
   "metadata": {},
   "source": [
    "### sort"
   ]
  },
  {
   "cell_type": "code",
   "execution_count": 67,
   "metadata": {},
   "outputs": [
    {
     "data": {
      "text/plain": [
       "['1988', '2000', '2007', '2011']"
      ]
     },
     "execution_count": 67,
     "metadata": {},
     "output_type": "execute_result"
    }
   ],
   "source": [
    "years = ['2011', '1988', '2000', '2007']\n",
    "years.sort()\n",
    "years"
   ]
  },
  {
   "cell_type": "markdown",
   "metadata": {},
   "source": [
    "### reverse"
   ]
  },
  {
   "cell_type": "code",
   "execution_count": 68,
   "metadata": {},
   "outputs": [
    {
     "data": {
      "text/plain": [
       "[3, 2, 1]"
      ]
     },
     "execution_count": 68,
     "metadata": {},
     "output_type": "execute_result"
    }
   ],
   "source": [
    "value = [1, 2, 3]\n",
    "value.reverse()\n",
    "value"
   ]
  },
  {
   "cell_type": "code",
   "execution_count": 79,
   "metadata": {},
   "outputs": [
    {
     "data": {
      "text/plain": [
       "[['z', 0], ['c', 1], ['a', 2]]"
      ]
     },
     "execution_count": 79,
     "metadata": {},
     "output_type": "execute_result"
    }
   ],
   "source": [
    "years = [['c', 1], ['a', 2], ['z', 0]]\n",
    "sorted(years, key=lambda item: item[1])\n",
    "\n"
   ]
  },
  {
   "cell_type": "markdown",
   "metadata": {},
   "source": [
    "### sorted + reversed\n",
    "same as mutable functions but return a new copy of the list each time"
   ]
  },
  {
   "cell_type": "markdown",
   "metadata": {},
   "source": [
    "### iteration and processing\n"
   ]
  },
  {
   "cell_type": "code",
   "execution_count": 87,
   "metadata": {},
   "outputs": [
    {
     "name": "stdout",
     "output_type": "stream",
     "text": [
      "55\n"
     ]
    }
   ],
   "source": [
    "total = 0\n",
    "numbers = [1, 2, 3, 4, 5, 6, 7, 8, 9, 10]\n",
    "\n",
    "for value in numbers:\n",
    "    total += value\n",
    "    \n",
    "print(total)\n"
   ]
  },
  {
   "cell_type": "markdown",
   "metadata": {},
   "source": [
    "### Exercise\n",
    "\n",
    "Write a function that multiplies each list value by -1\n",
    "```python\n",
    "negate([1, 2, 3])\n",
    "[-1, -2, -3]\n",
    "negate([-3, 0, 42])\n",
    "[3, 0, -42]\n",
    "negate([])\n",
    "[]\n",
    "```"
   ]
  },
  {
   "cell_type": "code",
   "execution_count": 96,
   "metadata": {},
   "outputs": [
    {
     "name": "stdout",
     "output_type": "stream",
     "text": [
      "[-1]\n",
      "[1, -1]\n",
      "[]\n"
     ]
    },
    {
     "data": {
      "text/plain": [
       "[]"
      ]
     },
     "execution_count": 96,
     "metadata": {},
     "output_type": "execute_result"
    }
   ],
   "source": [
    "def negate(mylist):\n",
    "    result_list = []\n",
    "    for value in mylist:\n",
    "        value *= -1\n",
    "        result_list.append(value)\n",
    "    print(result_list)\n",
    "    return result_list\n",
    "\n",
    "def negate2(mylist):\n",
    "    newlist = [-1 * value for value in mylist]\n",
    "    print (newlist)\n",
    "    return newlist\n",
    "\n",
    "negate2([1])\n",
    "negate2([-1, 1])\n",
    "negate2([])"
   ]
  },
  {
   "cell_type": "code",
   "execution_count": 104,
   "metadata": {},
   "outputs": [
    {
     "name": "stdout",
     "output_type": "stream",
     "text": [
      "no none in mylist\n"
     ]
    }
   ],
   "source": [
    "items = ['42', 0, True, None, '', 9000]\n",
    "for item in items:\n",
    "    if item == 'nu exista':\n",
    "        break\n",
    "else:\n",
    "    print ('no none in mylist')"
   ]
  },
  {
   "cell_type": "code",
   "execution_count": 108,
   "metadata": {},
   "outputs": [
    {
     "name": "stdout",
     "output_type": "stream",
     "text": [
      "2015\n",
      "Ox 2009\n",
      "Tiger 2010\n",
      "Rabbit 2011\n",
      "Dragon 2012\n",
      "Snake 2013\n",
      "Horse 2014\n",
      "Goat 2015\n",
      "Monkey 2016\n",
      "Rooster 2017\n",
      "Dog 2018\n",
      "Pig 2019\n",
      "Rat 2020\n"
     ]
    }
   ],
   "source": [
    "animals = ['Ox', 'Tiger', 'Rabbit', 'Dragon', 'Snake', 'Horse', 'Goat', 'Monkey', 'Rooster', 'Dog', 'Pig', 'Rat']\n",
    "years = [2009, 2010, 2011, 2012, 2013, 2014, 2015, 2016, 2017, 2018, 2019, 2020]\n",
    "for index, animal in enumerate(animals):\n",
    "    if animal == 'Goat':\n",
    "        print (years[index])\n",
    "    #print (years[index], animal)\n",
    "    \n",
    "for animal, year in zip(animals, years):\n",
    "    print (animal, year)"
   ]
  },
  {
   "cell_type": "markdown",
   "metadata": {},
   "source": [
    "### Exercise\n",
    "\n",
    "Write a program that takes a year as an argument and prints the Chinese Animal.\n",
    "\n",
    "```bash\n",
    "shell> python3 zodiac.py 1990\n",
    "Horse\n",
    "```"
   ]
  },
  {
   "cell_type": "markdown",
   "metadata": {},
   "source": [
    "## Dictionaries"
   ]
  },
  {
   "cell_type": "code",
   "execution_count": 111,
   "metadata": {},
   "outputs": [],
   "source": [
    "capitals = {\n",
    "    'Timis': 'Timisoara',\n",
    "    'Bihor': 'Oradea',\n",
    "    'Arad': 'Arad',\n",
    "    'Hunedoara': 'Deva',\n",
    "    'Caras-Severin': 'Resita',\n",
    "}"
   ]
  },
  {
   "cell_type": "markdown",
   "metadata": {},
   "source": [
    "### Lookup [] and Assingment"
   ]
  },
  {
   "cell_type": "code",
   "execution_count": 112,
   "metadata": {},
   "outputs": [
    {
     "data": {
      "text/plain": [
       "'Deva'"
      ]
     },
     "execution_count": 112,
     "metadata": {},
     "output_type": "execute_result"
    }
   ],
   "source": [
    "capitals['Hunedoara']"
   ]
  },
  {
   "cell_type": "code",
   "execution_count": 77,
   "metadata": {},
   "outputs": [
    {
     "data": {
      "text/plain": [
       "'Unknown'"
      ]
     },
     "execution_count": 77,
     "metadata": {},
     "output_type": "execute_result"
    }
   ],
   "source": [
    "capitals.get('Alba', 'Unknown')\n"
   ]
  },
  {
   "cell_type": "code",
   "execution_count": 82,
   "metadata": {},
   "outputs": [
    {
     "data": {
      "text/plain": [
       "'Alba Iulia'"
      ]
     },
     "execution_count": 82,
     "metadata": {},
     "output_type": "execute_result"
    }
   ],
   "source": [
    "capitals['Alba'] = 'Alba Iulia'\n",
    "capitals.get('Alba', 'Unknown')"
   ]
  },
  {
   "cell_type": "markdown",
   "metadata": {},
   "source": [
    "### items values keys"
   ]
  },
  {
   "cell_type": "code",
   "execution_count": 69,
   "metadata": {},
   "outputs": [
    {
     "data": {
      "text/plain": [
       "dict_items([('Timisoara', 'Timis'), ('Oradea', 'Bihor'), ('Arad', 'Arad'), ('Deva', 'Hunedoara'), ('Resita', 'Caras-Severin')])"
      ]
     },
     "execution_count": 69,
     "metadata": {},
     "output_type": "execute_result"
    }
   ],
   "source": [
    "capitals.items()"
   ]
  },
  {
   "cell_type": "code",
   "execution_count": 70,
   "metadata": {},
   "outputs": [
    {
     "data": {
      "text/plain": [
       "dict_values(['Timis', 'Bihor', 'Arad', 'Hunedoara', 'Caras-Severin'])"
      ]
     },
     "execution_count": 70,
     "metadata": {},
     "output_type": "execute_result"
    }
   ],
   "source": [
    "capitals.values()"
   ]
  },
  {
   "cell_type": "code",
   "execution_count": 71,
   "metadata": {},
   "outputs": [
    {
     "data": {
      "text/plain": [
       "dict_keys(['Timisoara', 'Oradea', 'Arad', 'Deva', 'Resita'])"
      ]
     },
     "execution_count": 71,
     "metadata": {},
     "output_type": "execute_result"
    }
   ],
   "source": [
    "capitals.keys()"
   ]
  },
  {
   "cell_type": "markdown",
   "metadata": {},
   "source": [
    "### Iteration"
   ]
  },
  {
   "cell_type": "code",
   "execution_count": 113,
   "metadata": {},
   "outputs": [
    {
     "name": "stdout",
     "output_type": "stream",
     "text": [
      "Timis -> Timisoara\n",
      "Bihor -> Oradea\n",
      "Arad -> Arad\n",
      "Hunedoara -> Deva\n",
      "Caras-Severin -> Resita\n",
      "Timisoara\n",
      "Oradea\n",
      "Arad\n",
      "Deva\n",
      "Resita\n"
     ]
    }
   ],
   "source": [
    "for county, city in capitals.items():\n",
    "    print (f'{county} -> {city}')\n",
    "    \n",
    "for count in capitals:\n",
    "    print (capitals[count])"
   ]
  },
  {
   "cell_type": "markdown",
   "metadata": {},
   "source": [
    "### Exercise:\n",
    "Strings are iterable just a lists, write a function that returns the letter count of a longer string:\n",
    "\n",
    "``` python\n",
    "\n",
    "letter_count('Python gives you superpowers.')\n",
    "\n",
    "{'p': 3,\n",
    " 'y': 2,\n",
    " 't': 1,\n",
    " 'h': 1,\n",
    " 'o': 3,\n",
    " 'n': 1,\n",
    " ' ': 3,\n",
    " 'g': 1,\n",
    " 'i': 1,\n",
    " 'v': 1,\n",
    " 'e': 3,\n",
    " 's': 3,\n",
    " 'u': 2,\n",
    " 'r': 2,\n",
    " 'w': 1,\n",
    " '.': 1}\n",
    "```"
   ]
  },
  {
   "cell_type": "markdown",
   "metadata": {},
   "source": [
    "### Exercise:\n",
    "Write a function that returnes the reverse of the capitals\n",
    "```python\n",
    "judet('Timisoara')\n",
    "Timis\n",
    "\n",
    "judet('Deva')\n",
    "Hunedoara\n",
    "```"
   ]
  },
  {
   "cell_type": "markdown",
   "metadata": {},
   "source": [
    "## Modules"
   ]
  },
  {
   "cell_type": "code",
   "execution_count": null,
   "metadata": {},
   "outputs": [],
   "source": []
  }
 ],
 "metadata": {
  "kernelspec": {
   "display_name": "Python 3",
   "language": "python",
   "name": "python3"
  },
  "language_info": {
   "codemirror_mode": {
    "name": "ipython",
    "version": 3
   },
   "file_extension": ".py",
   "mimetype": "text/x-python",
   "name": "python",
   "nbconvert_exporter": "python",
   "pygments_lexer": "ipython3",
   "version": "3.8.2"
  }
 },
 "nbformat": 4,
 "nbformat_minor": 4
}
