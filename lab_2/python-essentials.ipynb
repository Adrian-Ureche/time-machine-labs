{
 "cells": [
  {
   "cell_type": "markdown",
   "metadata": {},
   "source": [
    "## Why Python\n",
    "\n",
    "- [stackoverflow trends](https://insights.stackoverflow.com/trends?tags=java%2Cc%2Cc%2B%2B%2Cpython%2Cc%23%2Cvb.net%2Cjavascript%2Cassembly%2Cphp%2Cperl%2Cruby%2Cswift%2Cr%2Cobjective-c)\n",
    "- [google trends](https://trends.google.com/trends/explore?date=all&q=%2Fm%2F05z1_,%2Fm%2F02p97)\n",
    "\n",
    "## Topics to cover:\n",
    "- strings and numbers\n",
    "- printing\n",
    "- variables and scope\n",
    "- calling a python script with arguments: sys.argv\n",
    "- working with files: .read, .write, .close\n",
    "- variable names, functions,\n",
    "- conditional expressions and booleans, primitives, trthiness\n",
    "- flow control if, elif, else\n",
    "- loops, iterations and lists\n",
    "  - for\n",
    "  - while\n",
    "- debugging and coding recomandations\n",
    "- working with lists\n",
    "- working with dicts\n",
    "- modules and packages\n",
    "- objects and classes \n",
    "\n",
    "## Reference\n",
    "[Learn Python The Hard Way](https://learntocodetogether.com/learn-python-the-hard-way-free-ebook-download/)\n"
   ]
  },
  {
   "cell_type": "markdown",
   "metadata": {},
   "source": [
    "# Printing, Strings and Numbers\n",
    "\n",
    "- print\n",
    "- str\n",
    "- int"
   ]
  },
  {
   "cell_type": "code",
   "execution_count": 1,
   "metadata": {},
   "outputs": [
    {
     "name": "stdout",
     "output_type": "stream",
     "text": [
      "Hello, World!\n"
     ]
    }
   ],
   "source": [
    "print ('Hello, World!')"
   ]
  },
  {
   "cell_type": "code",
   "execution_count": 2,
   "metadata": {},
   "outputs": [
    {
     "name": "stdout",
     "output_type": "stream",
     "text": [
      "Mă numesc Zoli Szeredi și vă vom invața impreună Python\n"
     ]
    }
   ],
   "source": [
    "nume = \"Zoli Szeredi\"\n",
    "print (\"Mă numesc\", nume, \"și vă vom invața impreună Python\")"
   ]
  },
  {
   "cell_type": "code",
   "execution_count": 15,
   "metadata": {},
   "outputs": [
    {
     "name": "stdout",
     "output_type": "stream",
     "text": [
      "Sunt software developer la Syneto.\n",
      "Salut, sunt Zoli Szeredi, software developer de la Syneto din anul 2019.\n"
     ]
    }
   ],
   "source": [
    "organizatie = \"Syneto\"\n",
    "rol = 'software developer'\n",
    "an = 2019\n",
    "\n",
    "message = \"Sunt {} la {}.\".format(rol, organizatie)\n",
    "print (message)\n",
    "\n",
    "mesaj = f\"Salut, sunt {nume}, {rol} de la {organizatie} din anul {an}.\"\n",
    "print (mesaj)"
   ]
  },
  {
   "cell_type": "code",
   "execution_count": 8,
   "metadata": {},
   "outputs": [
    {
     "name": "stdout",
     "output_type": "stream",
     "text": [
      "********************************************************************************\n",
      "Salut, sunt Alex, student la UPT din anul 3.\n",
      "********************************************************************************\n"
     ]
    }
   ],
   "source": [
    "def greet(name, organization, role, year):\n",
    "    \"\"\"Prints a friendly greeting.\"\"\"\n",
    "    print('*' * 80)      \n",
    "    print(f\"Salut, sunt {name}, {role} la {organization} din anul {year}.\")\n",
    "    print('*' * 80)      \n",
    "\n",
    "    \n",
    "greet(name='Alex', organization='UPT', role='student', year=3)"
   ]
  },
  {
   "cell_type": "code",
   "execution_count": 2,
   "metadata": {},
   "outputs": [
    {
     "name": "stdout",
     "output_type": "stream",
     "text": [
      "-f /home/stz/.local/share/jupyter/runtime/kernel-31339a99-939f-4fa7-8338-c1ac66deace8.json\n"
     ]
    }
   ],
   "source": [
    "#! /usr/bin/env python3\n",
    "# about.py\n",
    "    \n",
    "import sys\n",
    "\n",
    "def about(color, animal):\n",
    "    return f\"My favorite color is {color} and I am a {animal} person.\"\n",
    "\n",
    "script, color, animal = sys.argv\n",
    "print(color, animal)"
   ]
  },
  {
   "cell_type": "markdown",
   "metadata": {},
   "source": [
    "```bash\n",
    "shell> python3 about.py blue dog\n",
    "\n",
    "My favorite color is Blue and I am a dog person.\n",
    "```\n",
    "\n",
    "You can also run the script directly on UNIX based platforms: MacOS, Linux, BSD.\n",
    "Provided you have the shebang header and the file is executable (chmod +x)"
   ]
  },
  {
   "cell_type": "markdown",
   "metadata": {},
   "source": [
    "# Usefull Methods:\n"
   ]
  },
  {
   "cell_type": "markdown",
   "metadata": {},
   "source": [
    "### in"
   ]
  },
  {
   "cell_type": "code",
   "execution_count": 12,
   "metadata": {},
   "outputs": [
    {
     "data": {
      "text/plain": [
       "True"
      ]
     },
     "execution_count": 12,
     "metadata": {},
     "output_type": "execute_result"
    }
   ],
   "source": [
    "'zz' in 'pizza'"
   ]
  },
  {
   "cell_type": "markdown",
   "metadata": {},
   "source": [
    "### split"
   ]
  },
  {
   "cell_type": "code",
   "execution_count": 14,
   "metadata": {},
   "outputs": [
    {
     "name": "stdout",
     "output_type": "stream",
     "text": [
      "1990.01.01\n"
     ]
    }
   ],
   "source": [
    "# split\n",
    "name, birth_date, location = 'Joe,1990.01.01,London'.split(',')\n",
    "print (birth_date)"
   ]
  },
  {
   "cell_type": "markdown",
   "metadata": {},
   "source": [
    "### strip + rstrip + lstrip\n"
   ]
  },
  {
   "cell_type": "code",
   "execution_count": 16,
   "metadata": {},
   "outputs": [
    {
     "name": "stdout",
     "output_type": "stream",
     "text": [
      "bad \n",
      "   bad\n",
      "bad\n"
     ]
    }
   ],
   "source": [
    "print ('   bad '.lstrip())\n",
    "print ('   bad '.rstrip())\n",
    "print ('   bad '.strip())"
   ]
  },
  {
   "cell_type": "markdown",
   "metadata": {},
   "source": [
    "### lower + upper"
   ]
  },
  {
   "cell_type": "code",
   "execution_count": 18,
   "metadata": {},
   "outputs": [
    {
     "name": "stdout",
     "output_type": "stream",
     "text": [
      "WONKY\n"
     ]
    }
   ],
   "source": [
    "data = 'WoNkY'\n",
    "if data.lower() == 'wonky':\n",
    "    print (data.upper())"
   ]
  },
  {
   "cell_type": "markdown",
   "metadata": {},
   "source": [
    "### join"
   ]
  },
  {
   "cell_type": "code",
   "execution_count": 20,
   "metadata": {},
   "outputs": [
    {
     "name": "stdout",
     "output_type": "stream",
     "text": [
      "bob\n",
      "joe\n",
      "tom\n"
     ]
    }
   ],
   "source": [
    "names = 'bob', 'joe', 'tom'\n",
    "print ('\\n'.join(names))"
   ]
  },
  {
   "cell_type": "markdown",
   "metadata": {},
   "source": [
    "### format"
   ]
  },
  {
   "cell_type": "code",
   "execution_count": 27,
   "metadata": {},
   "outputs": [
    {
     "data": {
      "text/plain": [
       "'The rain in Spain stays mainly on the plains.'"
      ]
     },
     "execution_count": 27,
     "metadata": {},
     "output_type": "execute_result"
    }
   ],
   "source": [
    "'The {} in {country} stays mainly on the {place}.'.format('rain', country='Spain', place=\"plains\")"
   ]
  },
  {
   "cell_type": "markdown",
   "metadata": {},
   "source": [
    "### replace"
   ]
  },
  {
   "cell_type": "code",
   "execution_count": 24,
   "metadata": {},
   "outputs": [
    {
     "data": {
      "text/plain": [
       "'Hello, students!'"
      ]
     },
     "execution_count": 24,
     "metadata": {},
     "output_type": "execute_result"
    }
   ],
   "source": [
    "'Hello, world'.replace('world', 'students!')"
   ]
  },
  {
   "cell_type": "markdown",
   "metadata": {},
   "source": [
    "### startswith + endswith"
   ]
  },
  {
   "cell_type": "code",
   "execution_count": 23,
   "metadata": {},
   "outputs": [
    {
     "name": "stdout",
     "output_type": "stream",
     "text": [
      "Popescu is a Romanian name\n"
     ]
    }
   ],
   "source": [
    "name = 'Popescu'\n",
    "if name.endswith('escu'):\n",
    "    print (f\"{name} is a Romanian name\")"
   ]
  },
  {
   "cell_type": "markdown",
   "metadata": {},
   "source": [
    "## Variables and Numbers\n",
    "\n"
   ]
  },
  {
   "cell_type": "code",
   "execution_count": 24,
   "metadata": {},
   "outputs": [
    {
     "name": "stdout",
     "output_type": "stream",
     "text": [
      "A megabyte is 1048576 bytes. Technically it's called mebibyte (MiB)\n",
      "1000000 bytes is a megabyte (MB) and is  95.37% of a mebibyte.\n"
     ]
    }
   ],
   "source": [
    "bytes_in_a_megabyte = 2**20\n",
    "one_million = 1_000_000\n",
    "print (f\"A megabyte is {bytes_in_a_megabyte} bytes. Technically it's called mebibyte (MiB)\")\n",
    "print (f'{one_million} bytes is a megabyte (MB) and is {100 * one_million / bytes_in_a_megabyte:6.2f}% of a mebibyte.')"
   ]
  },
  {
   "cell_type": "markdown",
   "metadata": {},
   "source": [
    "## Working with files"
   ]
  },
  {
   "cell_type": "code",
   "execution_count": 37,
   "metadata": {},
   "outputs": [
    {
     "name": "stdout",
     "output_type": "stream",
     "text": [
      "An old silent pond...\n",
      "A frog jumps into the pond,\n",
      "splash! Silence again.\n",
      "\n",
      "- Matsuo Bashō\n",
      "\n"
     ]
    }
   ],
   "source": [
    "filename = 'haiku.txt'\n",
    "\n",
    "def print_file(filename):\n",
    "    reader = open(filename)\n",
    "    code = reader.read()\n",
    "    reader.close()\n",
    "    print(code)\n",
    "    \n",
    "print_file(filename)"
   ]
  },
  {
   "cell_type": "markdown",
   "metadata": {},
   "source": [
    "## Excercise\n",
    "\n",
    "Write an python script called `cat.py`. Given an input parameter it print the contents of that file.\n",
    "\n",
    "> cat.py haiku.txt\n"
   ]
  },
  {
   "cell_type": "code",
   "execution_count": 44,
   "metadata": {},
   "outputs": [
    {
     "name": "stdout",
     "output_type": "stream",
     "text": [
      "1267650600228229401496703205376\n"
     ]
    }
   ],
   "source": [
    "filename = \"bignum.txt\"\n",
    "data = 2**100\n",
    "\n",
    "def write_file(filename, data):\n",
    "    writer = open(filename, \"w\")\n",
    "    writer.write(data)\n",
    "    writer.close()\n",
    "\n",
    "write_file(filename, f'{data}')\n",
    "print_file(filename)"
   ]
  },
  {
   "cell_type": "markdown",
   "metadata": {},
   "source": [
    "## Functions\n"
   ]
  },
  {
   "cell_type": "code",
   "execution_count": 31,
   "metadata": {},
   "outputs": [
    {
     "name": "stdout",
     "output_type": "stream",
     "text": [
      "42 + 100 142\n",
      "\"foo\" + \"bar\" foobar\n",
      "[1] + [2] [1, 2]\n"
     ]
    }
   ],
   "source": [
    "def add(a, b):\n",
    "    return a + b\n",
    "\n",
    "print ('42 + 100', add(42, 100))\n",
    "print ('\"foo\" + \"bar\"', add('foo', 'bar'))\n",
    "print ('[1] + [2]', add([1], [2]))"
   ]
  },
  {
   "cell_type": "code",
   "execution_count": 34,
   "metadata": {},
   "outputs": [
    {
     "name": "stdout",
     "output_type": "stream",
     "text": [
      "()\n",
      "{}\n",
      "(1,)\n",
      "{}\n",
      "(42,)\n",
      "{'foo': 'bar'}\n"
     ]
    }
   ],
   "source": [
    "def function(*args, **kwargs):\n",
    "    print (args)\n",
    "    print (kwargs)\n",
    "    \n",
    "function()\n",
    "function(1)\n",
    "function(42, foo='bar')"
   ]
  },
  {
   "cell_type": "markdown",
   "metadata": {},
   "source": [
    "## conditionals"
   ]
  },
  {
   "cell_type": "markdown",
   "metadata": {},
   "source": [
    "```python\n",
    "if cond1:\n",
    "    \"<true-branch>\"\n",
    "elif cond2:\n",
    "    \"<elif-branch>\"\n",
    "else:\n",
    "    \"<else-branch>\"\n",
    "```"
   ]
  },
  {
   "cell_type": "markdown",
   "metadata": {},
   "source": [
    "### [truthyness](https://docs.python.org/3/library/stdtypes.html#truth-value-testing)"
   ]
  },
  {
   "cell_type": "markdown",
   "metadata": {},
   "source": [
    "These onsidered falsey:\n",
    " - None and False.\n",
    " - zeros: 0, 0.0, 0j, Decimal(0), Fraction(0, 1)\n",
    " - empty bags: '', (), [], {}, set(), range(0)"
   ]
  },
  {
   "cell_type": "markdown",
   "metadata": {},
   "source": [
    "## Lists and Tuples"
   ]
  },
  {
   "cell_type": "code",
   "execution_count": 42,
   "metadata": {},
   "outputs": [],
   "source": [
    "numeric_list = [1, 2, 3, 4]\n",
    "numeric_tuple = (42, 41, 9)\n",
    "mixed = [1, 2, (3, )]"
   ]
  },
  {
   "cell_type": "markdown",
   "metadata": {},
   "source": [
    "### lookup and slices"
   ]
  },
  {
   "cell_type": "code",
   "execution_count": 56,
   "metadata": {},
   "outputs": [
    {
     "name": "stdout",
     "output_type": "stream",
     "text": [
      "bear\n",
      "['dog', 'goldfish', 'octokitty']\n",
      "octokitty\n",
      "['goldfish', 'octokitty']\n"
     ]
    }
   ],
   "source": [
    "items = ['bear', 'dog', 'goldfish', 'octokitty']\n",
    "print (items[0])\n",
    "print (items[1:])\n",
    "print (items[-1])\n",
    "print (items[-2:])"
   ]
  },
  {
   "cell_type": "markdown",
   "metadata": {},
   "source": [
    "### len"
   ]
  },
  {
   "cell_type": "code",
   "execution_count": 51,
   "metadata": {},
   "outputs": [
    {
     "data": {
      "text/plain": [
       "3"
      ]
     },
     "execution_count": 51,
     "metadata": {},
     "output_type": "execute_result"
    }
   ],
   "source": [
    "len([1, 2, 3])"
   ]
  },
  {
   "cell_type": "code",
   "execution_count": 50,
   "metadata": {},
   "outputs": [
    {
     "data": {
      "text/plain": [
       "0"
      ]
     },
     "execution_count": 50,
     "metadata": {},
     "output_type": "execute_result"
    }
   ],
   "source": [
    "len([])"
   ]
  },
  {
   "cell_type": "markdown",
   "metadata": {},
   "source": [
    "### append"
   ]
  },
  {
   "cell_type": "code",
   "execution_count": 57,
   "metadata": {},
   "outputs": [
    {
     "data": {
      "text/plain": [
       "[1, 2, 3]"
      ]
     },
     "execution_count": 57,
     "metadata": {},
     "output_type": "execute_result"
    }
   ],
   "source": [
    "nums = [1, 2]\n",
    "nums.append(3)\n",
    "nums"
   ]
  },
  {
   "cell_type": "markdown",
   "metadata": {},
   "source": [
    "### extend"
   ]
  },
  {
   "cell_type": "code",
   "execution_count": 58,
   "metadata": {},
   "outputs": [
    {
     "data": {
      "text/plain": [
       "[1, 2, 3, 4]"
      ]
     },
     "execution_count": 58,
     "metadata": {},
     "output_type": "execute_result"
    }
   ],
   "source": [
    "nums = [1, 2]\n",
    "nums.extend([3, 4])\n",
    "nums"
   ]
  },
  {
   "cell_type": "markdown",
   "metadata": {},
   "source": [
    "### sort"
   ]
  },
  {
   "cell_type": "code",
   "execution_count": 59,
   "metadata": {},
   "outputs": [
    {
     "data": {
      "text/plain": [
       "['1988', '2000', '2007', '2011']"
      ]
     },
     "execution_count": 59,
     "metadata": {},
     "output_type": "execute_result"
    }
   ],
   "source": [
    "years = ['2011', '1988', '2000', '2007']\n",
    "years.sort()\n",
    "years"
   ]
  },
  {
   "cell_type": "markdown",
   "metadata": {},
   "source": [
    "### reverse"
   ]
  },
  {
   "cell_type": "code",
   "execution_count": 62,
   "metadata": {},
   "outputs": [
    {
     "data": {
      "text/plain": [
       "[3, 2, 1]"
      ]
     },
     "execution_count": 62,
     "metadata": {},
     "output_type": "execute_result"
    }
   ],
   "source": [
    "value = [1, 2, 3]\n",
    "value.reverse()\n",
    "value"
   ]
  },
  {
   "cell_type": "markdown",
   "metadata": {},
   "source": [
    "### sorted + reverse\n",
    "same as mutable functions but return a new copy of the list each time"
   ]
  },
  {
   "cell_type": "markdown",
   "metadata": {},
   "source": [
    "### iteration and processing\n"
   ]
  },
  {
   "cell_type": "code",
   "execution_count": 49,
   "metadata": {},
   "outputs": [
    {
     "name": "stdout",
     "output_type": "stream",
     "text": [
      "55\n"
     ]
    }
   ],
   "source": [
    "total = 0\n",
    "numbers = [1, 2, 3, 4, 5, 6, 7, 8, 9, 10]\n",
    "\n",
    "for value in numbers:\n",
    "    total += value\n",
    "    \n",
    "print(total)\n"
   ]
  },
  {
   "cell_type": "markdown",
   "metadata": {},
   "source": [
    "### Exercise\n",
    "\n",
    "Write a function that multiplies each list value by -1\n",
    "```python\n",
    "negate([1, 2, 3])\n",
    "[-1, -2, -3]\n",
    "negate([-3, 0, 42])\n",
    "[3, 0, -42]\n",
    "negate([])\n",
    "[]\n",
    "```"
   ]
  },
  {
   "cell_type": "code",
   "execution_count": null,
   "metadata": {},
   "outputs": [],
   "source": [
    "items = ['42', 0, True, None, '', 9000]\n",
    "for item in items:\n",
    "    if item:\n",
    "        print (item)"
   ]
  },
  {
   "cell_type": "code",
   "execution_count": 39,
   "metadata": {},
   "outputs": [
    {
     "name": "stdout",
     "output_type": "stream",
     "text": [
      "2009 Ox\n",
      "2010 Tiger\n",
      "2011 Rabbit\n",
      "2012 Dragon\n",
      "2013 Snake\n",
      "2014 Horse\n",
      "2015 Goat\n",
      "2016 Monkey\n",
      "2017 Rooster\n",
      "2018 Dog\n",
      "2019 Pig\n",
      "2020 Rat\n"
     ]
    }
   ],
   "source": [
    "animals = ['Ox', 'Tiger', 'Rabbit', 'Dragon', 'Snake', 'Horse', 'Goat', 'Monkey', 'Rooster', 'Dog', 'Pig', 'Rat']\n",
    "years = [2009, 2010, 2011, 2012, 2013, 2014, 2015, 2016, 2017, 2018, 2019, 2020]\n",
    "for index, animal in enumerate(animals):\n",
    "    print (years[index], animal)"
   ]
  },
  {
   "cell_type": "markdown",
   "metadata": {},
   "source": [
    "### Exercise\n",
    "\n",
    "Write a program that takes a year as an argument and prints the Chinese Animal.\n",
    "\n",
    "```bash\n",
    "shell> python3 zodiac.py 1990\n",
    "Horse\n",
    "```"
   ]
  },
  {
   "cell_type": "markdown",
   "metadata": {},
   "source": [
    "## Dictionaries"
   ]
  },
  {
   "cell_type": "code",
   "execution_count": 74,
   "metadata": {},
   "outputs": [],
   "source": [
    "capitals = {\n",
    "    'Timis': 'Timisoara',\n",
    "    'Bihor': 'Oradea',\n",
    "    'Arad': 'Arad',\n",
    "    'Hunedoara': 'Deva',\n",
    "    'Caras-Severin': 'Resita',\n",
    "}"
   ]
  },
  {
   "cell_type": "markdown",
   "metadata": {},
   "source": [
    "### Lookup [] and Assingment"
   ]
  },
  {
   "cell_type": "code",
   "execution_count": 76,
   "metadata": {},
   "outputs": [
    {
     "data": {
      "text/plain": [
       "'Deva'"
      ]
     },
     "execution_count": 76,
     "metadata": {},
     "output_type": "execute_result"
    }
   ],
   "source": [
    "capitals['Hunedoara']"
   ]
  },
  {
   "cell_type": "code",
   "execution_count": 77,
   "metadata": {},
   "outputs": [
    {
     "data": {
      "text/plain": [
       "'Unknown'"
      ]
     },
     "execution_count": 77,
     "metadata": {},
     "output_type": "execute_result"
    }
   ],
   "source": [
    "capitals.get('Alba', 'Unknown')"
   ]
  },
  {
   "cell_type": "code",
   "execution_count": 82,
   "metadata": {},
   "outputs": [
    {
     "data": {
      "text/plain": [
       "'Alba Iulia'"
      ]
     },
     "execution_count": 82,
     "metadata": {},
     "output_type": "execute_result"
    }
   ],
   "source": [
    "capitals['Alba'] = 'Alba Iulia'\n",
    "capitals.get('Alba', 'Unknown')"
   ]
  },
  {
   "cell_type": "markdown",
   "metadata": {},
   "source": [
    "### items values keys"
   ]
  },
  {
   "cell_type": "code",
   "execution_count": 69,
   "metadata": {},
   "outputs": [
    {
     "data": {
      "text/plain": [
       "dict_items([('Timisoara', 'Timis'), ('Oradea', 'Bihor'), ('Arad', 'Arad'), ('Deva', 'Hunedoara'), ('Resita', 'Caras-Severin')])"
      ]
     },
     "execution_count": 69,
     "metadata": {},
     "output_type": "execute_result"
    }
   ],
   "source": [
    "capitals.items()"
   ]
  },
  {
   "cell_type": "code",
   "execution_count": 70,
   "metadata": {},
   "outputs": [
    {
     "data": {
      "text/plain": [
       "dict_values(['Timis', 'Bihor', 'Arad', 'Hunedoara', 'Caras-Severin'])"
      ]
     },
     "execution_count": 70,
     "metadata": {},
     "output_type": "execute_result"
    }
   ],
   "source": [
    "capitals.values()"
   ]
  },
  {
   "cell_type": "code",
   "execution_count": 71,
   "metadata": {},
   "outputs": [
    {
     "data": {
      "text/plain": [
       "dict_keys(['Timisoara', 'Oradea', 'Arad', 'Deva', 'Resita'])"
      ]
     },
     "execution_count": 71,
     "metadata": {},
     "output_type": "execute_result"
    }
   ],
   "source": [
    "capitals.keys()"
   ]
  },
  {
   "cell_type": "markdown",
   "metadata": {},
   "source": [
    "### Iteration"
   ]
  },
  {
   "cell_type": "code",
   "execution_count": 81,
   "metadata": {},
   "outputs": [
    {
     "name": "stdout",
     "output_type": "stream",
     "text": [
      "Timis -> Timisoara\n",
      "Bihor -> Oradea\n",
      "Arad -> Arad\n",
      "Hunedoara -> Deva\n",
      "Caras-Severin -> Resita\n"
     ]
    }
   ],
   "source": [
    "for county, city in capitals.items():\n",
    "    print (f'{county} -> {city}')"
   ]
  },
  {
   "cell_type": "markdown",
   "metadata": {},
   "source": [
    "### Exercise:\n",
    "Strings are iterable just a lists, write a function that returns the letter count of a longer string:\n",
    "\n",
    "``` python\n",
    "\n",
    "letter_count('Python gives you superpowers.')\n",
    "\n",
    "{'p': 3,\n",
    " 'y': 2,\n",
    " 't': 1,\n",
    " 'h': 1,\n",
    " 'o': 3,\n",
    " 'n': 1,\n",
    " ' ': 3,\n",
    " 'g': 1,\n",
    " 'i': 1,\n",
    " 'v': 1,\n",
    " 'e': 3,\n",
    " 's': 3,\n",
    " 'u': 2,\n",
    " 'r': 2,\n",
    " 'w': 1,\n",
    " '.': 1}\n",
    "```"
   ]
  },
  {
   "cell_type": "markdown",
   "metadata": {},
   "source": [
    "### Exercise:\n",
    "Write a function that returnes the reverse of the capitals\n",
    "```python\n",
    "judet('Timisoara')\n",
    "Timis\n",
    "\n",
    "judet('Deva')\n",
    "Hunedoara\n",
    "```"
   ]
  },
  {
   "cell_type": "markdown",
   "metadata": {},
   "source": [
    "## Modules"
   ]
  },
  {
   "cell_type": "code",
   "execution_count": null,
   "metadata": {},
   "outputs": [],
   "source": []
  }
 ],
 "metadata": {
  "kernelspec": {
   "display_name": "Python 3",
   "language": "python",
   "name": "python3"
  },
  "language_info": {
   "codemirror_mode": {
    "name": "ipython",
    "version": 3
   },
   "file_extension": ".py",
   "mimetype": "text/x-python",
   "name": "python",
   "nbconvert_exporter": "python",
   "pygments_lexer": "ipython3",
   "version": "3.8.2"
  }
 },
 "nbformat": 4,
 "nbformat_minor": 4
}
